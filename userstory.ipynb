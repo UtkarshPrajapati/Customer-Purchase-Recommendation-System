{
 "cells": [
  {
   "cell_type": "markdown",
   "metadata": {},
   "source": [
    "# Importing Libraries"
   ]
  },
  {
   "cell_type": "code",
   "execution_count": null,
   "metadata": {},
   "outputs": [],
   "source": [
    "import numpy as np\n",
    "import pandas as pd\n",
    "from sklearn.neighbors import NearestNeighbors\n",
    "from datetime import datetime\n",
    "from scipy.sparse import csr_matrix\n",
    "import seaborn as sns\n",
    "import matplotlib.pyplot as plt\n",
    "import sys"
   ]
  },
  {
   "cell_type": "markdown",
   "metadata": {},
   "source": [
    "# Exploratory Data Analysis"
   ]
  },
  {
   "cell_type": "markdown",
   "metadata": {},
   "source": [
    "### Reading File"
   ]
  },
  {
   "cell_type": "code",
   "execution_count": null,
   "metadata": {},
   "outputs": [],
   "source": [
    "#df=pd.read_excel(\"Online Retail.xlsx\")\n",
    "df=pd.read_csv(\"Online Retail.csv\") #Gives higher Read Speed\n",
    "df"
   ]
  },
  {
   "cell_type": "markdown",
   "metadata": {},
   "source": [
    "### Checking Information About Dataset"
   ]
  },
  {
   "cell_type": "code",
   "execution_count": null,
   "metadata": {},
   "outputs": [],
   "source": [
    "df.info()"
   ]
  },
  {
   "cell_type": "code",
   "execution_count": null,
   "metadata": {},
   "outputs": [],
   "source": [
    "df.describe()"
   ]
  },
  {
   "cell_type": "markdown",
   "metadata": {},
   "source": [
    "### Removing Postage Prices (It is not Related to Customers)"
   ]
  },
  {
   "cell_type": "code",
   "execution_count": null,
   "metadata": {},
   "outputs": [],
   "source": [
    "df[df[\"StockCode\"]==\"POST\"]"
   ]
  },
  {
   "cell_type": "code",
   "execution_count": null,
   "metadata": {},
   "outputs": [],
   "source": [
    "df = df[~df['StockCode'].str.contains('POST', na=False)]\n",
    "df"
   ]
  },
  {
   "cell_type": "markdown",
   "metadata": {},
   "source": [
    "# Data Augumentation"
   ]
  },
  {
   "cell_type": "markdown",
   "metadata": {},
   "source": [
    "### Removing Null Data"
   ]
  },
  {
   "cell_type": "code",
   "execution_count": null,
   "metadata": {},
   "outputs": [],
   "source": [
    "df = df.dropna(subset=['CustomerID']) \n",
    "df"
   ]
  },
  {
   "cell_type": "markdown",
   "metadata": {},
   "source": [
    "### Converting to Required DataType"
   ]
  },
  {
   "cell_type": "code",
   "execution_count": null,
   "metadata": {},
   "outputs": [],
   "source": [
    "df_clean = df.copy()\n",
    "df_clean.loc[:, 'InvoiceDate'] = pd.to_datetime(df_clean['InvoiceDate'])\n",
    "df_clean.loc[:, 'CustomerID'] = df_clean['CustomerID'].astype(int)\n",
    "df = df_clean.copy()\n",
    "df"
   ]
  },
  {
   "cell_type": "markdown",
   "metadata": {},
   "source": [
    "### Checking Null Values"
   ]
  },
  {
   "cell_type": "code",
   "execution_count": null,
   "metadata": {},
   "outputs": [],
   "source": [
    "df.isna().sum()"
   ]
  },
  {
   "cell_type": "markdown",
   "metadata": {},
   "source": [
    "### Removing Non-Useful Data"
   ]
  },
  {
   "cell_type": "code",
   "execution_count": null,
   "metadata": {},
   "outputs": [],
   "source": [
    "df=df[(df['UnitPrice']>0) & (df['Quantity']>0)]\n",
    "df"
   ]
  },
  {
   "cell_type": "markdown",
   "metadata": {},
   "source": [
    "### Checking New Info"
   ]
  },
  {
   "cell_type": "code",
   "execution_count": null,
   "metadata": {},
   "outputs": [],
   "source": [
    "df.info()"
   ]
  },
  {
   "cell_type": "markdown",
   "metadata": {},
   "source": [
    "### Checking No. of Cancelled Orders"
   ]
  },
  {
   "cell_type": "code",
   "execution_count": null,
   "metadata": {},
   "outputs": [],
   "source": [
    "df[\"InvoiceNo\"].apply(str).str.startswith(\"C\").sum()"
   ]
  },
  {
   "cell_type": "markdown",
   "metadata": {},
   "source": [
    "### Checking Outliers"
   ]
  },
  {
   "cell_type": "code",
   "execution_count": null,
   "metadata": {},
   "outputs": [],
   "source": [
    "def check_outliers(dataframe, variable, ax):\n",
    "    sns.boxplot(dataframe[variable],color='skyblue', ax=ax)\n",
    "    ax.set_title('Boxplot of '+variable)\n",
    "    ax.set_xlabel(variable)\n",
    "\n",
    "columns = ['UnitPrice', 'Quantity']\n",
    "fig, axs = plt.subplots(1, len(columns), figsize=(10, 5))\n",
    "\n",
    "for i, col in enumerate(columns):\n",
    "    check_outliers(df, col, axs[i])\n",
    "\n",
    "plt.tight_layout()\n",
    "plt.show()"
   ]
  },
  {
   "cell_type": "markdown",
   "metadata": {},
   "source": [
    "### Removing Outliers"
   ]
  },
  {
   "cell_type": "code",
   "execution_count": null,
   "metadata": {},
   "outputs": [],
   "source": [
    "def remove_outliers(data):\n",
    "    Q1 = data.quantile(0.25)\n",
    "    Q3 = data.quantile(0.75)\n",
    "    IQR = Q3 - Q1\n",
    "    outliers = (data < (Q1 - 1.5 * IQR)) | (data > (Q3 + 1.5 * IQR))\n",
    "    return outliers\n",
    "\n",
    "outliers = remove_outliers(df['UnitPrice'])\n",
    "df=df[~outliers]"
   ]
  },
  {
   "cell_type": "markdown",
   "metadata": {},
   "source": [
    "# Data Visualisation"
   ]
  },
  {
   "cell_type": "markdown",
   "metadata": {},
   "source": [
    "### Bar Plot of Frequency of Customers over Country"
   ]
  },
  {
   "cell_type": "code",
   "execution_count": null,
   "metadata": {},
   "outputs": [],
   "source": [
    "df['Country'].value_counts().head(10).plot(kind='barh', color='skyblue', edgecolor='black')\n",
    "plt.title('Bar Plot of Country')\n",
    "plt.xlabel('Country')\n",
    "plt.ylabel('Frequency')\n",
    "plt.show()"
   ]
  },
  {
   "cell_type": "markdown",
   "metadata": {},
   "source": [
    "##### Inference:-\n",
    "From this bar plot, we can infer the following:-\n",
    "1. United Kingdom has the highest frequency: The United Kingdom appears over 300,000 times, making it the most frequent country compared to others.\n",
    "\n",
    "2. Other countries have lower frequencies: Germany has the second-highest frequency, but it’s around 10,000 times, significantly lower than the United Kingdom."
   ]
  },
  {
   "cell_type": "markdown",
   "metadata": {},
   "source": [
    "### Scatter Plot of Quantity over UnitPrice"
   ]
  },
  {
   "cell_type": "code",
   "execution_count": null,
   "metadata": {},
   "outputs": [],
   "source": [
    "plt.scatter(df['Quantity'], df['UnitPrice'], color='skyblue', edgecolor='black', alpha=0.5)\n",
    "plt.title('Scatter Plot of Quantity vs UnitPrice')\n",
    "plt.xlabel('Quantity')\n",
    "plt.ylabel('UnitPrice')\n",
    "\n",
    "# Logarithmic Scale: Both axes are in logarithmic scale. This is done to visualize skewed distribution.\n",
    "plt.xscale('log')\n",
    "plt.yscale('log')\n",
    "plt.show()"
   ]
  },
  {
   "cell_type": "markdown",
   "metadata": {},
   "source": [
    "##### Inference:-\n",
    "1. Outliers: There is 1 outliers on the lower left and 2 on upper right of the plot.\n",
    "\n",
    "2. These represent transactions with Very Low Unit Price,Very Low Quantity & Very High Quantity."
   ]
  },
  {
   "cell_type": "markdown",
   "metadata": {},
   "source": [
    "### Time Series Plot of Quantity over InvoiceDate"
   ]
  },
  {
   "cell_type": "code",
   "execution_count": null,
   "metadata": {},
   "outputs": [],
   "source": [
    "df.set_index('InvoiceDate')['Quantity'].plot(color='skyblue')\n",
    "plt.title('Time Series Plot of Quantity over InvoiceDate')\n",
    "plt.xlabel('InvoiceDate')\n",
    "plt.ylabel('Quantity')\n",
    "plt.show()"
   ]
  },
  {
   "cell_type": "markdown",
   "metadata": {},
   "source": [
    "##### Inference:-\n",
    "1. Consistent Sales: Most of the time, the quantity of items sold is relatively low and consistent. This suggests a steady demand for the products.\n",
    "\n",
    "2. Sales Spikes: There are two large spikes in quantity sold, one in Jan-Feb 2011 and one after November 2011. These could be due to increased demand, promotional events, or other factors that increased sales during these periods."
   ]
  },
  {
   "cell_type": "markdown",
   "metadata": {},
   "source": [
    "## Cleaned DataSet"
   ]
  },
  {
   "cell_type": "code",
   "execution_count": null,
   "metadata": {},
   "outputs": [],
   "source": [
    "df"
   ]
  },
  {
   "cell_type": "markdown",
   "metadata": {},
   "source": [
    "# Collaborative Filtering"
   ]
  },
  {
   "cell_type": "markdown",
   "metadata": {},
   "source": [
    "### Aggregating Purchase Quantities"
   ]
  },
  {
   "cell_type": "code",
   "execution_count": null,
   "metadata": {},
   "outputs": [],
   "source": [
    "# Sum 'Quantity' for each 'CustomerID' and 'StockCode' pair\n",
    "df_agg = df.groupby(['CustomerID', 'StockCode'])['Quantity'].sum().reset_index()\n",
    "df_agg"
   ]
  },
  {
   "cell_type": "markdown",
   "metadata": {},
   "source": [
    "### Creating Pivot Table"
   ]
  },
  {
   "cell_type": "code",
   "execution_count": null,
   "metadata": {},
   "outputs": [],
   "source": [
    "# Create a pivot table with users as rows and items as columns\n",
    "pivot_table = df_agg.pivot(index='CustomerID', columns='StockCode', values='Quantity').fillna(0)\n",
    "pivot_table"
   ]
  },
  {
   "cell_type": "markdown",
   "metadata": {},
   "source": [
    "### Conversion to Sparse Matrix"
   ]
  },
  {
   "cell_type": "code",
   "execution_count": null,
   "metadata": {},
   "outputs": [],
   "source": [
    "# Convert the pivot table to a sparse matrix\n",
    "matrix = csr_matrix(pivot_table.values)\n",
    "matrix"
   ]
  },
  {
   "cell_type": "markdown",
   "metadata": {},
   "source": [
    "### K Nearest Neighbour - Cosine Similarity"
   ]
  },
  {
   "cell_type": "code",
   "execution_count": null,
   "metadata": {},
   "outputs": [],
   "source": [
    "# Fit the KNN model to data\n",
    "model_knn = NearestNeighbors(metric='cosine', algorithm='brute')\n",
    "model_knn.fit(matrix)"
   ]
  },
  {
   "cell_type": "markdown",
   "metadata": {},
   "source": [
    "# Recommend Function"
   ]
  },
  {
   "cell_type": "code",
   "execution_count": null,
   "metadata": {},
   "outputs": [],
   "source": [
    "def recommend_items(user_id, date, n_recommendations=5):\n",
    "    # Input validation\n",
    "    if not isinstance(n_recommendations, int) or n_recommendations <= 0:\n",
    "        print(\"n_recommendations must be a positive integer.\")\n",
    "        return\n",
    "    \n",
    "    # Handle missing values\n",
    "    if pivot_table.isnull().any().any() or df.isnull().any().any():\n",
    "        print(\"Data contains missing values.\")\n",
    "        return\n",
    "    \n",
    "    # Check if user_id exists in the data else return\n",
    "    if user_id not in pivot_table.index:\n",
    "        print(f\"User ID {user_id} does not exist in the data.\")\n",
    "        return\n",
    "    \n",
    "    # Check if date is within range else return\n",
    "    min_date=df['InvoiceDate'].min().date()\n",
    "    max_date=df['InvoiceDate'].max().date()\n",
    "    \n",
    "    if not min_date <= date <= max_date:\n",
    "        min_date = min_date.strftime(\"%d-%m-%Y\")\n",
    "        max_date = max_date.strftime(\"%d-%m-%Y\")\n",
    "        print(f\"Date is out of range. Please choose a date between {min_date} and {max_date}.\")\n",
    "        return\n",
    "    \n",
    "    try:\n",
    "        # Get the top n similar users for a given user\n",
    "        distances,indices=model_knn.kneighbors(pivot_table.loc[user_id].values.reshape(1,-1),n_neighbors=n_recommendations+1)\n",
    "        \n",
    "        recommended_items = []\n",
    "        \n",
    "        # Get recommendations from similar users\n",
    "        for i in range(1, len(distances.flatten())):\n",
    "            similar_user_id = pivot_table.index[indices.flatten()[i]]\n",
    "            purchases_by_similar_user = df[(df['CustomerID'] == similar_user_id) & (df['InvoiceDate'].dt.date == date)]\n",
    "            \n",
    "            # If no purchases on the given date, get the most popular items purchased by the similar user\n",
    "            if purchases_by_similar_user.empty:\n",
    "                purchases_by_similar_user = df[df['CustomerID'] == similar_user_id]\n",
    "            \n",
    "            for _, row in purchases_by_similar_user.iterrows():\n",
    "                item = (row['StockCode'], row['Description'])\n",
    "                if item not in recommended_items:\n",
    "                    recommended_items.append(item)\n",
    "                    \n",
    "        if not recommended_items:\n",
    "            print(\"No recommendations found.\")\n",
    "            return\n",
    "        \n",
    "        return recommended_items[:n_recommendations]\n",
    "    \n",
    "    except Exception as e:\n",
    "        print(f\"An error occurred: {e}\")"
   ]
  },
  {
   "cell_type": "markdown",
   "metadata": {},
   "source": [
    "# Testing the Function"
   ]
  },
  {
   "cell_type": "code",
   "execution_count": null,
   "metadata": {},
   "outputs": [],
   "source": [
    "#Some most frequent customers:- 17841, 14911, 14096, 12748, 14606, 15311, 14646, 13089, 13263, 14298\n",
    "#Some least frequent customers:- 14795, 13366, 18084, 13120, 17443, 15562, 15216, 17382, 15389, 16073\n",
    "#Enter CustomerID Here\n",
    "#cid=16072\n",
    "# Enter CustomerID Here\n",
    "verifycid=0\n",
    "cid_input = input(\"Enter CustomerID\")\n",
    "if not cid_input.isnumeric():\n",
    "    print(\"Invalid Customer ID. Please enter a 5 digit number.\")\n",
    "    exit\n",
    "else:\n",
    "    cid = int(cid_input)\n",
    "    verifycid=1\n",
    "\n",
    "try:\n",
    "    # Enter Date Here (Choose a date between 01-12-2010 and 09-12-2011)\n",
    "    #date_string = \"01-10-2011\"\n",
    "    date_string=input(\"Enter Date in dd-mm-yyyy Format\")\n",
    "    # Extract date\n",
    "    date_object = datetime.strptime(date_string, \"%d-%m-%Y\").date()\n",
    "    \n",
    "    if verifycid:\n",
    "        output = recommend_items(cid,date_object)\n",
    "        if output:\n",
    "            for i, item in enumerate(output, start=1):\n",
    "                print(f\"{i}):\")\n",
    "                print(f\"Stock Code: {item[0]}\")\n",
    "                print(f\"Description: {item[1]}\\n\")\n",
    "            \n",
    "except ValueError:\n",
    "    print(\"Invalid date format. Please enter the date in 'dd-mm-yyyy' format.\")"
   ]
  }
 ],
 "metadata": {
  "kernelspec": {
   "display_name": "base",
   "language": "python",
   "name": "python3"
  },
  "language_info": {
   "codemirror_mode": {
    "name": "ipython",
    "version": 3
   },
   "file_extension": ".py",
   "mimetype": "text/x-python",
   "name": "python",
   "nbconvert_exporter": "python",
   "pygments_lexer": "ipython3",
   "version": "3.10.9"
  },
  "orig_nbformat": 4
 },
 "nbformat": 4,
 "nbformat_minor": 2
}
